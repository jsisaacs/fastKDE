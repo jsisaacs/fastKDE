{
 "cells": [
  {
   "cell_type": "code",
   "execution_count": 1,
   "metadata": {},
   "outputs": [],
   "source": [
    "import numpy as np\n",
    "from scipy.sparse import coo_matrix\n",
    "from scipy.signal import convolve2d, gaussian\n",
    "import matplotlib.pyplot as plt"
   ]
  },
  {
   "cell_type": "code",
   "execution_count": 2,
   "metadata": {},
   "outputs": [],
   "source": [
    "x = np.array([0.3395,    0.9783,    0.3895,    0.7022,    0.0185,    0.1849,    0.6926,    0.8179,    0.3845,    0.5245])\n",
    "y = np.array([0.7747,    0.7053,    0.5655,    0.6056,    0.1807,    0.0696,    0.1127,    0.4404,    0.6015,    0.6682])\n",
    "weights = np.ones(10)"
   ]
  },
  {
   "cell_type": "code",
   "execution_count": 3,
   "metadata": {},
   "outputs": [],
   "source": [
    "x, y = np.asarray(x), np.asarray(y)\n",
    "x, y = np.squeeze(x), np.squeeze(y)\n",
    "\n",
    "n = x.size"
   ]
  },
  {
   "cell_type": "code",
   "execution_count": 4,
   "metadata": {},
   "outputs": [
    {
     "name": "stdout",
     "output_type": "stream",
     "text": [
      "gridSize: 512.0\n",
      "xMin: 0.0185, xMax: 0.9783, yMin: 0.0696, yMax: 0.7747\n"
     ]
    }
   ],
   "source": [
    "# OPTIMIZE GRIDSIZE\n",
    "gridsize = 512.\n",
    "\n",
    "# EXTENTS\n",
    "xmin, xmax = x.min(), x.max()\n",
    "ymin, ymax = y.min(), y.max()\n",
    "\n",
    "dx = (xmax - xmin) / (gridsize - 1)\n",
    "dy = (ymax - ymin) / (gridsize - 1)\n",
    "\n",
    "print(f\"gridSize: {gridsize}\")\n",
    "print(f\"xMin: {xmin}, xMax: {xmax}, yMin: {ymin}, yMax: {ymax}\")"
   ]
  },
  {
   "cell_type": "code",
   "execution_count": 5,
   "metadata": {},
   "outputs": [
    {
     "name": "stdout",
     "output_type": "stream",
     "text": [
      "bins: \n",
      "[[170. 511. 197. 364.   0.  88. 358. 425. 194. 269.]\n",
      " [511. 460. 359. 388.  80.   0.  31. 268. 385. 433.]]\n"
     ]
    }
   ],
   "source": [
    "# BINS\n",
    "bins = np.vstack((x,y)).T\n",
    "bins -= [xmin, ymin]\n",
    "bins /= [dx, dy]\n",
    "bins = np.floor(bins, bins).T\n",
    "\n",
    "print(f\"bins: \\n{bins}\")"
   ]
  },
  {
   "cell_type": "code",
   "execution_count": 6,
   "metadata": {},
   "outputs": [],
   "source": [
    "def plot_coo_matrix(m):\n",
    "    if not isinstance(m, coo_matrix):\n",
    "        m = coo_matrix(m)\n",
    "    fig = plt.figure()\n",
    "    ax = fig.add_subplot(111, axisbg='black')\n",
    "    ax.plot(m.col, m.row, 's', color='white', ms=1)\n",
    "    ax.set_xlim(0, m.shape[1])\n",
    "    ax.set_ylim(0, m.shape[0])\n",
    "    ax.set_aspect('equal')\n",
    "    for spine in ax.spines.values():\n",
    "        spine.set_visible(False)\n",
    "    ax.invert_yaxis()\n",
    "    ax.set_aspect('equal')\n",
    "    ax.set_xticks([])\n",
    "    ax.set_yticks([])\n",
    "    return ax"
   ]
  },
  {
   "cell_type": "code",
   "execution_count": 8,
   "metadata": {},
   "outputs": [
    {
     "name": "stderr",
     "output_type": "stream",
     "text": [
      "/anaconda3/lib/python3.6/site-packages/matplotlib/cbook/deprecation.py:106: MatplotlibDeprecationWarning: The axisbg attribute was deprecated in version 2.0. Use facecolor instead.\n",
      "  warnings.warn(message, mplDeprecation, stacklevel=1)\n",
      "/anaconda3/lib/python3.6/site-packages/matplotlib/figure.py:418: UserWarning: matplotlib is currently using a non-GUI backend, so cannot show the figure\n",
      "  \"matplotlib is currently using a non-GUI backend, \"\n"
     ]
    },
    {
     "data": {
      "image/png": "[encoded data removed]",
      "text/plain": [
       "<matplotlib.figure.Figure at 0x10ba49d68>"
      ]
     },
     "metadata": {},
     "output_type": "display_data"
    }
   ],
   "source": [
    "# COO MATRIX\n",
    "grid = coo_matrix((weights, bins), shape=(gridsize, gridsize)).toarray()\n",
    "\n",
    "ax = plot_coo_matrix(grid)\n",
    "ax.figure.show()"
   ]
  },
  {
   "cell_type": "code",
   "execution_count": 16,
   "metadata": {},
   "outputs": [
    {
     "name": "stdout",
     "output_type": "stream",
     "text": [
      "Covariance: \n",
      "[[24919.82222222 11016.22222222]\n",
      " [11016.22222222 35258.05555556]]\n",
      "Scotts Factor: 0.6812920690579612\n"
     ]
    }
   ],
   "source": [
    "# KERNEL PRECALCULATIONS\n",
    "cov = np.cov(bins)\n",
    "print(f\"Covariance: \\n{cov}\")\n",
    "\n",
    "scotts = n ** (-1.0 / 6.) * 1.0\n",
    "print(f\"Scotts Factor: {scotts}\")"
   ]
  },
  {
   "cell_type": "code",
   "execution_count": 27,
   "metadata": {},
   "outputs": [
    {
     "name": "stdout",
     "output_type": "stream",
     "text": [
      "Standard Deviation: [157.860135   187.77128523]\n",
      "Kern_nx: 676.0\n",
      "Kern_ny: 804.0\n",
      "Bandwidth: \n",
      "[[ 1.00309594e-04 -3.13412854e-05]\n",
      " [-3.13412854e-05  7.08971954e-05]]\n"
     ]
    }
   ],
   "source": [
    "# GAUSSIAN KERNEL\n",
    "std_devs = np.diag(np.sqrt(cov))\n",
    "kern_nx, kern_ny = np.round(scotts * 2 * np.pi * std_devs)\n",
    "\n",
    "bandwidth = np.linalg.inv(cov * scotts ** 2)\n",
    "\n",
    "xx = np.arange(kern_nx, dtype=np.float) - kern_nx / 2.0\n",
    "yy = np.arange(kern_ny, dtype=np.float) - kern_ny / 2.0\n",
    "\n",
    "### TODO ###\n",
    "\n",
    "print(f\"Standard Deviation: {std_devs}\")\n",
    "print(f\"Kern_nx: {kern_nx}\")\n",
    "print(f\"Kern_ny: {kern_ny}\")\n",
    "print(f\"Bandwidth: \\n{bandwidth}\")"
   ]
  },
  {
   "cell_type": "code",
   "execution_count": null,
   "metadata": {},
   "outputs": [],
   "source": []
  }
 ],
 "metadata": {
  "kernelspec": {
   "display_name": "Python 3",
   "language": "python",
   "name": "python3"
  },
  "language_info": {
   "codemirror_mode": {
    "name": "ipython",
    "version": 3
   },
   "file_extension": ".py",
   "mimetype": "text/x-python",
   "name": "python",
   "nbconvert_exporter": "python",
   "pygments_lexer": "ipython3",
   "version": "3.6.4"
  }
 },
 "nbformat": 4,
 "nbformat_minor": 2
}
